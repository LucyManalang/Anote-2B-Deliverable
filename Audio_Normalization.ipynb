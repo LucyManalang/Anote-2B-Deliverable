{
 "cells": [
  {
   "cell_type": "code",
   "execution_count": null,
   "id": "79095a61",
   "metadata": {},
   "outputs": [],
   "source": [
    "# pip install chromadb sentence-transformers\n",
    "import chromadb"
   ]
  },
  {
   "cell_type": "code",
   "execution_count": null,
   "id": "cc09d0d8",
   "metadata": {},
   "outputs": [],
   "source": [
    "from chromadb.config import Settings\n",
    "from sentence_transformers import sentence_transformers\n",
    "import uuid"
   ]
  },
  {
   "cell_type": "code",
   "execution_count": null,
   "id": "4b58234b",
   "metadata": {},
   "outputs": [],
   "source": [
    "# Initialize embedding model + DB\n",
    "embed_model = SentenceTransformer(\"all-MiniLM-L6-v2\")\n",
    "\n",
    "chroma_client = chroma.PersistentClient(\n",
    "    Settings(\n",
    "        chroma_db_impl=\"duckdb+parquet\",\n",
    "        persist_directory=\"chromadb_store\")\n",
    ")\n",
    "\n",
    "collection = chroma_client.get_or_create_collection(\n",
    "    name=\"multimodal_index\", \n",
    "    metadata={\"hnsw:space\": \"cosine\"} # cosine similarity for retrieval\n",
    "    )\n",
    "\n",
    "def normalize_and_index(ingested_audio_outputs: list[dict]):\n",
    "    \"\"\"\n",
    "    Convert ingested ASR segments to unitfied normalized schema + embed + store in vector DB.\n",
    "    \"\"\"\n",
    "\n",
    "    ids = []\n",
    "    embeddings = []\n",
    "    documents = []\n",
    "    metadatas = []\n",
    "\n",
    "    for seg in ingested_audio_outputs:\n",
    "        chunk_id = str(uuid.uuid4())\n",
    "        text = seg[\"text\"]\n",
    "        meta = seg[\"metadata\"]\n",
    "\n",
    "        # Generate embedding\n",
    "        emb = embed_model.encode(text).tolist()\n",
    "\n",
    "        # Append to lists\n",
    "        ids.append(chunk_id)\n",
    "        embeddings.append(emb)\n",
    "        documents.append(text)\n",
    "        metadatas.append(meta)\n",
    "\n",
    "    # Store in Chroma\n",
    "    collection.add(\n",
    "        ids=ids,\n",
    "        embeddings=embeddings,\n",
    "        documents=documents,\n",
    "        metadatas=metadatas\n",
    "    )\n",
    "\n",
    "    print(f\"Indexed {len(ids)} audio chunks\")\n",
    "    return ids\n",
    "\n",
    "if __name__ == \"__main__\":\n",
    "    from ingest_audio_script import ingest_audio # import your script\n",
    "\n",
    "    audio_data = ingest_audio(\"audio/\")\n",
    "    normalize_and_index(audio_data)\n"
   ]
  }
 ],
 "metadata": {
  "language_info": {
   "name": "python"
  }
 },
 "nbformat": 4,
 "nbformat_minor": 5
}
